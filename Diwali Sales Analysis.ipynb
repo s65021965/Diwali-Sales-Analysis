{
 "cells": [
  {
   "cell_type": "code",
   "execution_count": null,
   "id": "e3eabe0b-51c7-40c0-84f6-3af03edbb610",
   "metadata": {},
   "outputs": [],
   "source": [
    "# Import the necessary libraries\n",
    "import numpy as np\n",
    "import pandas as pd\n",
    "import seaborn as sns\n",
    "import matplotlib.pyplot as plt"
   ]
  },
  {
   "cell_type": "code",
   "execution_count": null,
   "id": "fd9e539c-6841-4d55-81e1-aefdeda5aafd",
   "metadata": {},
   "outputs": [],
   "source": [
    "# Load the dataset\n",
    "df = pd.read_csv(r\"Diwali Sales Data.csv\", encoding = 'unicode_escape')\n",
    "df.head(10)"
   ]
  },
  {
   "cell_type": "code",
   "execution_count": null,
   "id": "1e827b20-b50a-4f9c-9527-983726fca4ba",
   "metadata": {},
   "outputs": [],
   "source": [
    "# check the shape\n",
    "df.shape"
   ]
  },
  {
   "cell_type": "code",
   "execution_count": null,
   "id": "1638b72b-fe15-4e25-ab83-37ea5b709ca2",
   "metadata": {},
   "outputs": [],
   "source": [
    "# Check the information of the dataset\n",
    "df.info()"
   ]
  },
  {
   "cell_type": "code",
   "execution_count": null,
   "id": "8adaf63e-87ad-44a1-b1ec-de75f84eb1ff",
   "metadata": {},
   "outputs": [],
   "source": [
    "# Determine the statistical summary of the data\n",
    "df.describe()"
   ]
  },
  {
   "cell_type": "code",
   "execution_count": null,
   "id": "addb8db5-82f0-43b7-92dc-fb7f022d6fb5",
   "metadata": {},
   "outputs": [],
   "source": [
    "# Check for any null values\n",
    "df.isnull().any()"
   ]
  },
  {
   "cell_type": "code",
   "execution_count": null,
   "id": "4e6a171b-d89f-4891-9a1d-480229d21868",
   "metadata": {},
   "outputs": [],
   "source": [
    "# Drop the irrelevant columns\n",
    "df.drop(['Status', 'unnamed1'], axis = 1, inplace = True)"
   ]
  },
  {
   "cell_type": "code",
   "execution_count": null,
   "id": "045e1735-08ee-46c3-bc9d-6c437d29a78a",
   "metadata": {},
   "outputs": [],
   "source": [
    "df.shape"
   ]
  },
  {
   "cell_type": "code",
   "execution_count": null,
   "id": "02db1a8b-734e-415f-913c-f98f93f20698",
   "metadata": {},
   "outputs": [],
   "source": [
    "df.isnull().sum()"
   ]
  },
  {
   "cell_type": "code",
   "execution_count": null,
   "id": "20059002-565b-4848-b14e-aad008065bec",
   "metadata": {},
   "outputs": [],
   "source": [
    "df.dropna(inplace =True)"
   ]
  },
  {
   "cell_type": "code",
   "execution_count": null,
   "id": "c2b13b97-418b-4fb0-afcc-537c0e382c00",
   "metadata": {},
   "outputs": [],
   "source": [
    "df.shape"
   ]
  },
  {
   "cell_type": "code",
   "execution_count": null,
   "id": "fde1c687-5161-4698-9061-05b275189c57",
   "metadata": {},
   "outputs": [],
   "source": [
    "# Changing the datatype of Amount column\n",
    "df['Amount'] = df['Amount'].astype('int')"
   ]
  },
  {
   "cell_type": "code",
   "execution_count": null,
   "id": "86f0fffd-697e-49a3-9993-cd0ae4cb28b6",
   "metadata": {},
   "outputs": [],
   "source": [
    "df['Amount'].dtypes"
   ]
  },
  {
   "cell_type": "code",
   "execution_count": null,
   "id": "65f6e240-9bf0-4474-a11e-d0e0f10f038e",
   "metadata": {},
   "outputs": [],
   "source": [
    "df.columns"
   ]
  },
  {
   "cell_type": "code",
   "execution_count": null,
   "id": "e203b2a3-8705-491a-b30c-564c5b685fb8",
   "metadata": {},
   "outputs": [],
   "source": [
    "# Checking the statistical summary for specific columns\n",
    "df[['Age', 'Orders', 'Amount']].describe()"
   ]
  },
  {
   "cell_type": "markdown",
   "id": "0bff0740-c961-4be6-8802-2428401f52e5",
   "metadata": {},
   "source": [
    "*Exploratory Data Analysis*"
   ]
  },
  {
   "cell_type": "code",
   "execution_count": null,
   "id": "77d8150d-7798-4659-a6ce-9b311fd0acf7",
   "metadata": {},
   "outputs": [],
   "source": [
    "df.columns"
   ]
  },
  {
   "cell_type": "code",
   "execution_count": null,
   "id": "f0588470-a170-40fa-b6aa-a70feb1742ac",
   "metadata": {},
   "outputs": [],
   "source": [
    "plt.figure(figsize = (8, 4))\n",
    "sns.countplot(x = 'Gender', data = df, hue = 'Gender')\n",
    "plt.title(\"Gender distribution\")\n",
    "plt.show()"
   ]
  },
  {
   "cell_type": "code",
   "execution_count": null,
   "id": "65811132-3852-493b-9feb-3e999d80c3e1",
   "metadata": {},
   "outputs": [],
   "source": [
    "df.groupby(['Gender'], as_index = False)['Amount'].sum().sort_values(by = 'Amount', ascending = False)"
   ]
  },
  {
   "cell_type": "code",
   "execution_count": null,
   "id": "1d5f6b0f-b903-4331-b1cc-14137e41be55",
   "metadata": {},
   "outputs": [],
   "source": [
    "sales_gen = df.groupby(['Gender'], as_index = False)['Amount'].sum().sort_values(by = 'Amount', ascending = False)\n",
    "sns.barplot(x = 'Gender',y = 'Amount', data = sales_gen, hue = 'Gender')"
   ]
  },
  {
   "cell_type": "code",
   "execution_count": null,
   "id": "78126087-5a71-44fd-8bf7-e76e740f91f3",
   "metadata": {},
   "outputs": [],
   "source": [
    "ax = sns.countplot(x = 'Age Group', data = df, hue = 'Gender')\n",
    "for bars in ax.containers:\n",
    "    ax.bar_label(bars)"
   ]
  },
  {
   "cell_type": "code",
   "execution_count": null,
   "id": "b5bc381a-f4ae-4fb0-ac72-e35054a9e3ad",
   "metadata": {},
   "outputs": [],
   "source": [
    "# Total Amount vs Age Group\n",
    "sales_age = df.groupby(['Age Group'], as_index = False)['Amount'].sum().sort_values(by = 'Amount', ascending = False)\n",
    "sns.barplot(x = 'Age Group',y = 'Amount', data = sales_age, hue = 'Age Group')"
   ]
  },
  {
   "cell_type": "code",
   "execution_count": null,
   "id": "10fff54f-772f-41eb-99a8-25625e7ff015",
   "metadata": {},
   "outputs": [],
   "source": [
    "# Total number of orders from top 10 states\n",
    "sales_state = df.groupby(['State'], as_index = False)['Orders'].sum().sort_values(by = 'Orders', ascending = False).head(10)\n",
    "sns.set(rc = {\"figure.figsize\" : (18, 6)})\n",
    "sns.barplot(x = 'State', y = 'Orders', data = sales_state, hue = 'State')"
   ]
  },
  {
   "cell_type": "code",
   "execution_count": null,
   "id": "4b22e282-9781-4bc7-b895-66bf12bb5089",
   "metadata": {},
   "outputs": [],
   "source": [
    "# Total amount/sales from top 10 states\n",
    "sales_state = df.groupby(['State'], as_index = False)['Amount'].sum().sort_values(by = 'Amount', ascending = False).head(10)\n",
    "sns.set(rc = {\"figure.figsize\" : (18, 6)})\n",
    "sns.barplot(x = 'State', y = 'Amount', data = sales_state, hue = 'State')"
   ]
  },
  {
   "cell_type": "code",
   "execution_count": null,
   "id": "b0fc06ab-f33e-47b8-8780-0c2567955bae",
   "metadata": {},
   "outputs": [],
   "source": [
    "sns.set(rc = {\"figure.figsize\" : (20, 5)})\n",
    "ax = sns.countplot(x = 'Occupation', data = df, hue = 'Occupation')\n",
    "for bars in ax.containers:\n",
    "    ax.bar_label(bars)"
   ]
  },
  {
   "cell_type": "code",
   "execution_count": null,
   "id": "c3a6eaeb-8a97-4093-963f-4f4fd8c3393a",
   "metadata": {},
   "outputs": [],
   "source": [
    "sales_state = df.groupby(['Occupation'], as_index = False)['Amount'].sum().sort_values(by = 'Amount', ascending = False)\n",
    "sns.set(rc = {\"figure.figsize\" : (20, 5)})\n",
    "sns.barplot(x = 'Occupation', y = 'Amount', data = sales_state, hue = 'Occupation')"
   ]
  },
  {
   "cell_type": "code",
   "execution_count": null,
   "id": "efdb6da8-8ed8-46c9-8d92-e1e5d29314a5",
   "metadata": {},
   "outputs": [],
   "source": [
    "sns.set(rc = {\"figure.figsize\" : (22, 5)})\n",
    "ax = sns.countplot(x = 'Product_Category', data = df, hue = 'Product_Category')\n",
    "for bars in ax.containers:\n",
    "    ax.bar_label(bars)"
   ]
  },
  {
   "cell_type": "code",
   "execution_count": null,
   "id": "beaae221-4da5-481a-9e5e-07c1e7b66edf",
   "metadata": {},
   "outputs": [],
   "source": [
    "sales_state = df.groupby(['Product_Category'], as_index = False)['Amount'].sum().sort_values(by = 'Amount', ascending = False)\n",
    "sns.set(rc = {\"figure.figsize\" : (22, 5)})\n",
    "sns.barplot(x = 'Product_Category', y = 'Amount', data = sales_state, hue = 'Product_Category')"
   ]
  },
  {
   "cell_type": "markdown",
   "id": "08f86dca-67ba-4e7d-b075-713c78cff005",
   "metadata": {},
   "source": [
    "Conclusion: \n",
    "Married Women within the Age Group of 26-35 years from UP, Maharastra, and Karnataka working in IT, Healthcare, and Aviation are more likely to buy products from the Food, Clothing, and Electronics categories."
   ]
  }
 ],
 "metadata": {
  "kernelspec": {
   "display_name": "Python 3 (ipykernel)",
   "language": "python",
   "name": "python3"
  },
  "language_info": {
   "codemirror_mode": {
    "name": "ipython",
    "version": 3
   },
   "file_extension": ".py",
   "mimetype": "text/x-python",
   "name": "python",
   "nbconvert_exporter": "python",
   "pygments_lexer": "ipython3",
   "version": "3.12.4"
  }
 },
 "nbformat": 4,
 "nbformat_minor": 5
}
